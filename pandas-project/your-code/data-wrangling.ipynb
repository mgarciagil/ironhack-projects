{
 "cells": [
  {
   "cell_type": "code",
   "execution_count": 1,
   "metadata": {},
   "outputs": [
    {
     "name": "stdout",
     "output_type": "stream",
     "text": [
      "Requirement already satisfied: validator-collection in /home/mgarcia/snap/jupyter/common/lib/python3.7/site-packages (1.4.1)\n",
      "Requirement already satisfied: jsonschema in /snap/jupyter/6/lib/python3.7/site-packages (from validator-collection) (3.0.1)\n",
      "Requirement already satisfied: attrs>=17.4.0 in /snap/jupyter/6/lib/python3.7/site-packages (from jsonschema->validator-collection) (19.1.0)\n",
      "Requirement already satisfied: pyrsistent>=0.14.0 in /snap/jupyter/6/lib/python3.7/site-packages (from jsonschema->validator-collection) (0.15.2)\n",
      "Requirement already satisfied: setuptools in /snap/jupyter/6/lib/python3.7/site-packages (from jsonschema->validator-collection) (41.0.1)\n",
      "Requirement already satisfied: six>=1.11.0 in /snap/jupyter/6/lib/python3.7/site-packages (from jsonschema->validator-collection) (1.12.0)\n",
      "Requirement already satisfied: kaggle in /home/mgarcia/snap/jupyter/common/lib/python3.7/site-packages (1.5.6)\n",
      "Requirement already satisfied: python-slugify in /home/mgarcia/snap/jupyter/common/lib/python3.7/site-packages (from kaggle) (4.0.0)\n",
      "Requirement already satisfied: python-dateutil in /snap/jupyter/6/lib/python3.7/site-packages (from kaggle) (2.8.0)\n",
      "Requirement already satisfied: urllib3<1.25,>=1.21.1 in /home/mgarcia/snap/jupyter/common/lib/python3.7/site-packages (from kaggle) (1.24.3)\n",
      "Requirement already satisfied: six>=1.10 in /snap/jupyter/6/lib/python3.7/site-packages (from kaggle) (1.12.0)\n",
      "Requirement already satisfied: requests in /home/mgarcia/snap/jupyter/common/lib/python3.7/site-packages (from kaggle) (2.22.0)\n",
      "Requirement already satisfied: certifi in /snap/jupyter/6/lib/python3.7/site-packages (from kaggle) (2019.3.9)\n",
      "Requirement already satisfied: tqdm in /home/mgarcia/snap/jupyter/common/lib/python3.7/site-packages (from kaggle) (4.46.0)\n",
      "Requirement already satisfied: text-unidecode>=1.3 in /home/mgarcia/snap/jupyter/common/lib/python3.7/site-packages (from python-slugify->kaggle) (1.3)\n",
      "Requirement already satisfied: idna<2.9,>=2.5 in /home/mgarcia/snap/jupyter/common/lib/python3.7/site-packages (from requests->kaggle) (2.8)\n",
      "Requirement already satisfied: chardet<3.1.0,>=3.0.2 in /home/mgarcia/snap/jupyter/common/lib/python3.7/site-packages (from requests->kaggle) (3.0.4)\n"
     ]
    }
   ],
   "source": [
    "!pip install validator-collection\n",
    "!pip install kaggle"
   ]
  },
  {
   "cell_type": "code",
   "execution_count": 2,
   "metadata": {},
   "outputs": [],
   "source": [
    "import pandas as pd\n",
    "from kaggle.api.kaggle_api_extended import KaggleApi\n",
    "import zipfile\n",
    "import os\n",
    "import urllib.request, urllib.error\n",
    "from validator_collection import validators, checkers\n",
    "import re"
   ]
  },
  {
   "cell_type": "code",
   "execution_count": 3,
   "metadata": {},
   "outputs": [],
   "source": [
    "project_path = '/home/mgarcia/Documentos/ironhack/ironhack-projects/pandas-project/your-code/' "
   ]
  },
  {
   "cell_type": "code",
   "execution_count": 4,
   "metadata": {},
   "outputs": [],
   "source": [
    "api = KaggleApi()\n",
    "api.authenticate()\n",
    "\n",
    "\n",
    "#In case you need to download the file, use this:\n",
    "\n",
    "#api.dataset_download_files('teajay/global-shark-attacks')\n",
    "#file = 'global-shark-attacks.zip'\n",
    "#with zipfile.ZipFile(project_path + file, 'r') as zip_ref:\n",
    "#    zip_ref.extractall(project_path)"
   ]
  },
  {
   "cell_type": "code",
   "execution_count": 52,
   "metadata": {},
   "outputs": [
    {
     "data": {
      "text/html": [
       "<div>\n",
       "<style scoped>\n",
       "    .dataframe tbody tr th:only-of-type {\n",
       "        vertical-align: middle;\n",
       "    }\n",
       "\n",
       "    .dataframe tbody tr th {\n",
       "        vertical-align: top;\n",
       "    }\n",
       "\n",
       "    .dataframe thead th {\n",
       "        text-align: right;\n",
       "    }\n",
       "</style>\n",
       "<table border=\"1\" class=\"dataframe\">\n",
       "  <thead>\n",
       "    <tr style=\"text-align: right;\">\n",
       "      <th></th>\n",
       "      <th>Case Number</th>\n",
       "      <th>Date</th>\n",
       "      <th>Year</th>\n",
       "      <th>Type</th>\n",
       "      <th>Country</th>\n",
       "      <th>Area</th>\n",
       "      <th>Location</th>\n",
       "      <th>Activity</th>\n",
       "      <th>Name</th>\n",
       "      <th>Sex</th>\n",
       "      <th>...</th>\n",
       "      <th>Species</th>\n",
       "      <th>Investigator or Source</th>\n",
       "      <th>pdf</th>\n",
       "      <th>href formula</th>\n",
       "      <th>href</th>\n",
       "      <th>Case Number.1</th>\n",
       "      <th>Case Number.2</th>\n",
       "      <th>original order</th>\n",
       "      <th>Unnamed: 22</th>\n",
       "      <th>Unnamed: 23</th>\n",
       "    </tr>\n",
       "  </thead>\n",
       "  <tbody>\n",
       "    <tr>\n",
       "      <th>0</th>\n",
       "      <td>2018.06.25</td>\n",
       "      <td>25-Jun-2018</td>\n",
       "      <td>2018.0</td>\n",
       "      <td>Boating</td>\n",
       "      <td>USA</td>\n",
       "      <td>California</td>\n",
       "      <td>Oceanside, San Diego County</td>\n",
       "      <td>Paddling</td>\n",
       "      <td>Julie Wolfe</td>\n",
       "      <td>F</td>\n",
       "      <td>...</td>\n",
       "      <td>White shark</td>\n",
       "      <td>R. Collier, GSAF</td>\n",
       "      <td>2018.06.25-Wolfe.pdf</td>\n",
       "      <td>http://sharkattackfile.net/spreadsheets/pdf_di...</td>\n",
       "      <td>http://sharkattackfile.net/spreadsheets/pdf_di...</td>\n",
       "      <td>2018.06.25</td>\n",
       "      <td>2018.06.25</td>\n",
       "      <td>6303.0</td>\n",
       "      <td>NaN</td>\n",
       "      <td>NaN</td>\n",
       "    </tr>\n",
       "    <tr>\n",
       "      <th>1</th>\n",
       "      <td>2018.06.18</td>\n",
       "      <td>18-Jun-2018</td>\n",
       "      <td>2018.0</td>\n",
       "      <td>Unprovoked</td>\n",
       "      <td>USA</td>\n",
       "      <td>Georgia</td>\n",
       "      <td>St. Simon Island, Glynn County</td>\n",
       "      <td>Standing</td>\n",
       "      <td>Adyson McNeely</td>\n",
       "      <td>F</td>\n",
       "      <td>...</td>\n",
       "      <td>NaN</td>\n",
       "      <td>K.McMurray, TrackingSharks.com</td>\n",
       "      <td>2018.06.18-McNeely.pdf</td>\n",
       "      <td>http://sharkattackfile.net/spreadsheets/pdf_di...</td>\n",
       "      <td>http://sharkattackfile.net/spreadsheets/pdf_di...</td>\n",
       "      <td>2018.06.18</td>\n",
       "      <td>2018.06.18</td>\n",
       "      <td>6302.0</td>\n",
       "      <td>NaN</td>\n",
       "      <td>NaN</td>\n",
       "    </tr>\n",
       "    <tr>\n",
       "      <th>2</th>\n",
       "      <td>2018.06.09</td>\n",
       "      <td>09-Jun-2018</td>\n",
       "      <td>2018.0</td>\n",
       "      <td>Invalid</td>\n",
       "      <td>USA</td>\n",
       "      <td>Hawaii</td>\n",
       "      <td>Habush, Oahu</td>\n",
       "      <td>Surfing</td>\n",
       "      <td>John Denges</td>\n",
       "      <td>M</td>\n",
       "      <td>...</td>\n",
       "      <td>NaN</td>\n",
       "      <td>K.McMurray, TrackingSharks.com</td>\n",
       "      <td>2018.06.09-Denges.pdf</td>\n",
       "      <td>http://sharkattackfile.net/spreadsheets/pdf_di...</td>\n",
       "      <td>http://sharkattackfile.net/spreadsheets/pdf_di...</td>\n",
       "      <td>2018.06.09</td>\n",
       "      <td>2018.06.09</td>\n",
       "      <td>6301.0</td>\n",
       "      <td>NaN</td>\n",
       "      <td>NaN</td>\n",
       "    </tr>\n",
       "    <tr>\n",
       "      <th>3</th>\n",
       "      <td>2018.06.08</td>\n",
       "      <td>08-Jun-2018</td>\n",
       "      <td>2018.0</td>\n",
       "      <td>Unprovoked</td>\n",
       "      <td>AUSTRALIA</td>\n",
       "      <td>New South Wales</td>\n",
       "      <td>Arrawarra Headland</td>\n",
       "      <td>Surfing</td>\n",
       "      <td>male</td>\n",
       "      <td>M</td>\n",
       "      <td>...</td>\n",
       "      <td>2 m shark</td>\n",
       "      <td>B. Myatt, GSAF</td>\n",
       "      <td>2018.06.08-Arrawarra.pdf</td>\n",
       "      <td>http://sharkattackfile.net/spreadsheets/pdf_di...</td>\n",
       "      <td>http://sharkattackfile.net/spreadsheets/pdf_di...</td>\n",
       "      <td>2018.06.08</td>\n",
       "      <td>2018.06.08</td>\n",
       "      <td>6300.0</td>\n",
       "      <td>NaN</td>\n",
       "      <td>NaN</td>\n",
       "    </tr>\n",
       "    <tr>\n",
       "      <th>4</th>\n",
       "      <td>2018.06.04</td>\n",
       "      <td>04-Jun-2018</td>\n",
       "      <td>2018.0</td>\n",
       "      <td>Provoked</td>\n",
       "      <td>MEXICO</td>\n",
       "      <td>Colima</td>\n",
       "      <td>La Ticla</td>\n",
       "      <td>Free diving</td>\n",
       "      <td>Gustavo Ramos</td>\n",
       "      <td>M</td>\n",
       "      <td>...</td>\n",
       "      <td>Tiger shark, 3m</td>\n",
       "      <td>A .Kipper</td>\n",
       "      <td>2018.06.04-Ramos.pdf</td>\n",
       "      <td>http://sharkattackfile.net/spreadsheets/pdf_di...</td>\n",
       "      <td>http://sharkattackfile.net/spreadsheets/pdf_di...</td>\n",
       "      <td>2018.06.04</td>\n",
       "      <td>2018.06.04</td>\n",
       "      <td>6299.0</td>\n",
       "      <td>NaN</td>\n",
       "      <td>NaN</td>\n",
       "    </tr>\n",
       "  </tbody>\n",
       "</table>\n",
       "<p>5 rows × 24 columns</p>\n",
       "</div>"
      ],
      "text/plain": [
       "  Case Number         Date    Year        Type    Country             Area  \\\n",
       "0  2018.06.25  25-Jun-2018  2018.0     Boating        USA       California   \n",
       "1  2018.06.18  18-Jun-2018  2018.0  Unprovoked        USA          Georgia   \n",
       "2  2018.06.09  09-Jun-2018  2018.0     Invalid        USA           Hawaii   \n",
       "3  2018.06.08  08-Jun-2018  2018.0  Unprovoked  AUSTRALIA  New South Wales   \n",
       "4  2018.06.04  04-Jun-2018  2018.0    Provoked     MEXICO           Colima   \n",
       "\n",
       "                         Location     Activity             Name Sex   ...  \\\n",
       "0     Oceanside, San Diego County     Paddling      Julie Wolfe    F  ...   \n",
       "1  St. Simon Island, Glynn County     Standing  Adyson McNeely     F  ...   \n",
       "2                    Habush, Oahu      Surfing      John Denges    M  ...   \n",
       "3              Arrawarra Headland      Surfing             male    M  ...   \n",
       "4                        La Ticla  Free diving   Gustavo Ramos     M  ...   \n",
       "\n",
       "          Species           Investigator or Source                       pdf  \\\n",
       "0      White shark                R. Collier, GSAF      2018.06.25-Wolfe.pdf   \n",
       "1              NaN  K.McMurray, TrackingSharks.com    2018.06.18-McNeely.pdf   \n",
       "2              NaN  K.McMurray, TrackingSharks.com     2018.06.09-Denges.pdf   \n",
       "3        2 m shark                  B. Myatt, GSAF  2018.06.08-Arrawarra.pdf   \n",
       "4  Tiger shark, 3m                       A .Kipper      2018.06.04-Ramos.pdf   \n",
       "\n",
       "                                        href formula  \\\n",
       "0  http://sharkattackfile.net/spreadsheets/pdf_di...   \n",
       "1  http://sharkattackfile.net/spreadsheets/pdf_di...   \n",
       "2  http://sharkattackfile.net/spreadsheets/pdf_di...   \n",
       "3  http://sharkattackfile.net/spreadsheets/pdf_di...   \n",
       "4  http://sharkattackfile.net/spreadsheets/pdf_di...   \n",
       "\n",
       "                                                href Case Number.1  \\\n",
       "0  http://sharkattackfile.net/spreadsheets/pdf_di...    2018.06.25   \n",
       "1  http://sharkattackfile.net/spreadsheets/pdf_di...    2018.06.18   \n",
       "2  http://sharkattackfile.net/spreadsheets/pdf_di...    2018.06.09   \n",
       "3  http://sharkattackfile.net/spreadsheets/pdf_di...    2018.06.08   \n",
       "4  http://sharkattackfile.net/spreadsheets/pdf_di...    2018.06.04   \n",
       "\n",
       "  Case Number.2 original order Unnamed: 22 Unnamed: 23  \n",
       "0    2018.06.25         6303.0         NaN         NaN  \n",
       "1    2018.06.18         6302.0         NaN         NaN  \n",
       "2    2018.06.09         6301.0         NaN         NaN  \n",
       "3    2018.06.08         6300.0         NaN         NaN  \n",
       "4    2018.06.04         6299.0         NaN         NaN  \n",
       "\n",
       "[5 rows x 24 columns]"
      ]
     },
     "execution_count": 52,
     "metadata": {},
     "output_type": "execute_result"
    }
   ],
   "source": [
    "raw = pd.read_csv(project_path + 'attacks.csv', encoding = 'latin_1')\n",
    "raw.head()"
   ]
  },
  {
   "cell_type": "markdown",
   "metadata": {},
   "source": [
    "### Hypothesis:\n",
    "1. Most attacks were unprovoked\n",
    "2. Most victims were males between 20 and 40 years\n",
    "3. Most non-fatal victims were surfing"
   ]
  },
  {
   "cell_type": "markdown",
   "metadata": {},
   "source": [
    "## Cleaning empty rows"
   ]
  },
  {
   "cell_type": "code",
   "execution_count": 53,
   "metadata": {},
   "outputs": [
    {
     "name": "stdout",
     "output_type": "stream",
     "text": [
      "(25723, 24)\n"
     ]
    },
    {
     "data": {
      "text/plain": [
       "Case Number               17021\n",
       "Date                      19421\n",
       "Year                      19423\n",
       "Type                      19425\n",
       "Country                   19471\n",
       "Area                      19876\n",
       "Location                  19961\n",
       "Activity                  19965\n",
       "Name                      19631\n",
       "Sex                       19986\n",
       "Age                       22252\n",
       "Injury                    19449\n",
       "Fatal (Y/N)               19960\n",
       "Time                      22775\n",
       "Species                   22259\n",
       "Investigator or Source    19438\n",
       "pdf                       19421\n",
       "href formula              19422\n",
       "href                      19421\n",
       "Case Number.1             19421\n",
       "Case Number.2             19421\n",
       "original order            19414\n",
       "Unnamed: 22               25722\n",
       "Unnamed: 23               25721\n",
       "dtype: int64"
      ]
     },
     "execution_count": 53,
     "metadata": {},
     "output_type": "execute_result"
    }
   ],
   "source": [
    "print(raw.shape)\n",
    "raw.isnull().sum()"
   ]
  },
  {
   "cell_type": "code",
   "execution_count": 54,
   "metadata": {},
   "outputs": [
    {
     "name": "stdout",
     "output_type": "stream",
     "text": [
      "(8702, 24)\n"
     ]
    },
    {
     "data": {
      "text/plain": [
       "Case Number                  0\n",
       "Date                      2401\n",
       "Year                      2403\n",
       "Type                      2405\n",
       "Country                   2451\n",
       "Area                      2856\n",
       "Location                  2941\n",
       "Activity                  2945\n",
       "Name                      2611\n",
       "Sex                       2966\n",
       "Age                       5231\n",
       "Injury                    2429\n",
       "Fatal (Y/N)               2940\n",
       "Time                      5754\n",
       "Species                   5238\n",
       "Investigator or Source    2418\n",
       "pdf                       2401\n",
       "href formula              2402\n",
       "href                      2401\n",
       "Case Number.1             2401\n",
       "Case Number.2             2401\n",
       "original order            2394\n",
       "Unnamed: 22               8701\n",
       "Unnamed: 23               8700\n",
       "dtype: int64"
      ]
     },
     "execution_count": 54,
     "metadata": {},
     "output_type": "execute_result"
    }
   ],
   "source": [
    "# if case number is null, maybe all the row is null. Let's check\n",
    "raw_clean=raw[~raw['Case Number'].isnull()]\n",
    "print(raw_clean.shape)\n",
    "raw_clean.isnull().sum()\n",
    "\n",
    "# indeed :D"
   ]
  },
  {
   "cell_type": "code",
   "execution_count": 55,
   "metadata": {},
   "outputs": [
    {
     "name": "stdout",
     "output_type": "stream",
     "text": [
      "(6302, 24)\n"
     ]
    },
    {
     "data": {
      "text/plain": [
       "Case Number                  1\n",
       "Date                         0\n",
       "Year                         2\n",
       "Type                         4\n",
       "Country                     50\n",
       "Area                       455\n",
       "Location                   540\n",
       "Activity                   544\n",
       "Name                       210\n",
       "Sex                        565\n",
       "Age                       2831\n",
       "Injury                      28\n",
       "Fatal (Y/N)                539\n",
       "Time                      3354\n",
       "Species                   2838\n",
       "Investigator or Source      17\n",
       "pdf                          0\n",
       "href formula                 1\n",
       "href                         0\n",
       "Case Number.1                0\n",
       "Case Number.2                0\n",
       "original order               0\n",
       "Unnamed: 22               6301\n",
       "Unnamed: 23               6300\n",
       "dtype: int64"
      ]
     },
     "execution_count": 55,
     "metadata": {},
     "output_type": "execute_result"
    }
   ],
   "source": [
    "# Also, seems like null dates mean empty row\n",
    "raw_clean=raw_clean[~raw_clean['Date'].isnull()]\n",
    "print(raw_clean.shape)\n",
    "raw_clean.isnull().sum()\n",
    "\n",
    "# confirm"
   ]
  },
  {
   "cell_type": "code",
   "execution_count": 56,
   "metadata": {},
   "outputs": [],
   "source": [
    "# The dataset has reduce a good amount of data, so now it will be easier to inspect it\n",
    "raw_clean=raw_clean.reset_index(drop=True)\n",
    "raw_clean.to_csv('attacks_clean.csv', ';', quotechar = '\"')"
   ]
  },
  {
   "cell_type": "markdown",
   "metadata": {},
   "source": [
    " ## Dropping unnecesary columns\n"
   ]
  },
  {
   "cell_type": "code",
   "execution_count": 57,
   "metadata": {},
   "outputs": [],
   "source": [
    "# two last columns are empty so we can drop them\n",
    "#columns = raw.columns\n",
    "raw_clean = raw_clean.drop(columns=['Unnamed: 22', 'Unnamed: 23'])\n",
    "\n",
    "# As we're taking Case Number as reference, we don't need the duplicated Case Number columns\n",
    "raw_clean = raw_clean.drop(columns=['Case Number.1', 'Case Number.2'])\n",
    "\n",
    "# original order isn't useful for our purposes\n",
    "raw_clean = raw_clean.drop(columns=['original order'])"
   ]
  },
  {
   "cell_type": "code",
   "execution_count": 58,
   "metadata": {},
   "outputs": [
    {
     "data": {
      "text/plain": [
       "True     6242\n",
       "False      60\n",
       "dtype: int64"
      ]
     },
     "execution_count": 58,
     "metadata": {},
     "output_type": "execute_result"
    }
   ],
   "source": [
    "# href and href formula looks pretty much the same (href formula has one extra null)\n",
    "(raw_clean['href formula'] == raw_clean['href']).value_counts()"
   ]
  },
  {
   "cell_type": "code",
   "execution_count": 59,
   "metadata": {},
   "outputs": [],
   "source": [
    "#The code below is quite heavy, I wouldn't run it unless I'm sure I have time. \n",
    "#The results were:\n",
    "#requests_failed =0\n",
    "#invalid_url = 73\n",
    "\n",
    "#requests_failed = 0\n",
    "#invalid_url = 0\n",
    "#for url in raw_clean['href']:\n",
    "#    if checkers.is_url(url) == True:\n",
    "#        try:\n",
    "#            resp = urllib.request.urlopen(url).getcode()\n",
    "#        except urllib.error.HTTPError as e:\n",
    "#            if e.code == 404:\n",
    "#                requests_failed = requests_failed + 1\n",
    "#    else:\n",
    "#        invalid_url = invalid_url + 1\n",
    "\n",
    "#print(requests_failed)\n",
    "#print(invalid_url)"
   ]
  },
  {
   "cell_type": "code",
   "execution_count": 60,
   "metadata": {},
   "outputs": [],
   "source": [
    "#So we can drop one of the columns without losing a lot of information as they match at 99%\n",
    "raw_clean = raw_clean.drop(columns=['href formula'])"
   ]
  },
  {
   "cell_type": "code",
   "execution_count": 61,
   "metadata": {},
   "outputs": [],
   "source": [
    "# pdf is just the name of the pdf file that stores the data, as long as we can donwload it. \n",
    "\n",
    "raw_clean = raw_clean.drop(columns=['pdf'])"
   ]
  },
  {
   "cell_type": "markdown",
   "metadata": {},
   "source": [
    "## Deleting duplicates"
   ]
  },
  {
   "cell_type": "code",
   "execution_count": 62,
   "metadata": {},
   "outputs": [
    {
     "name": "stdout",
     "output_type": "stream",
     "text": [
      "0\n"
     ]
    }
   ],
   "source": [
    "# first check: full duplicate rows\n",
    "print(sum(raw_clean.duplicated()))\n",
    "raw_clean = raw_clean.drop_duplicates()"
   ]
  },
  {
   "cell_type": "code",
   "execution_count": 63,
   "metadata": {},
   "outputs": [
    {
     "name": "stdout",
     "output_type": "stream",
     "text": [
      "16\n"
     ]
    }
   ],
   "source": [
    "# second check: case numbers\n",
    "print(raw_clean.duplicated(subset='Case Number').sum())\n",
    "\n",
    "pd.concat(g for _, g in raw_clean.groupby('Case Number') if len(g) > 1)\n",
    "\n",
    "#Can't drop this like that. Let's check date + country + area to verify duplicity\n",
    "\n",
    "raw_clean = raw_clean.drop_duplicates(subset=['Case Number', 'Date', 'Country', 'Area'], keep = False)"
   ]
  },
  {
   "cell_type": "code",
   "execution_count": 64,
   "metadata": {},
   "outputs": [
    {
     "name": "stdout",
     "output_type": "stream",
     "text": [
      "15\n"
     ]
    }
   ],
   "source": [
    "# third check: href. If it points to the same report, it probaby be the same case\n",
    "print(raw_clean.duplicated(subset='href').sum())\n",
    "\n",
    "pd.concat(g for _, g in raw_clean.groupby(\"href\") if len(g) > 1)\n",
    "\n",
    "raw_clean = raw_clean.drop_duplicates(subset=['href', 'Date', 'Country', 'Area'], keep = False)\n"
   ]
  },
  {
   "cell_type": "code",
   "execution_count": 65,
   "metadata": {},
   "outputs": [],
   "source": [
    "# As we're finished reshaping the dataframe, it's a good moment to reset index\n",
    "raw_clean=raw_clean.reset_index(drop=True)"
   ]
  },
  {
   "cell_type": "markdown",
   "metadata": {},
   "source": [
    "## Formatting data"
   ]
  },
  {
   "cell_type": "code",
   "execution_count": 66,
   "metadata": {},
   "outputs": [
    {
     "name": "stdout",
     "output_type": "stream",
     "text": [
      "<class 'pandas.core.frame.DataFrame'>\n",
      "RangeIndex: 6276 entries, 0 to 6275\n",
      "Data columns (total 17 columns):\n",
      " #   Column                  Non-Null Count  Dtype  \n",
      "---  ------                  --------------  -----  \n",
      " 0   Case Number             6275 non-null   object \n",
      " 1   Date                    6276 non-null   object \n",
      " 2   Year                    6274 non-null   float64\n",
      " 3   Type                    6272 non-null   object \n",
      " 4   Country                 6226 non-null   object \n",
      " 5   Area                    5821 non-null   object \n",
      " 6   Location                5736 non-null   object \n",
      " 7   Activity                5734 non-null   object \n",
      " 8   Name                    6068 non-null   object \n",
      " 9   Sex                     5711 non-null   object \n",
      " 10  Age                     3457 non-null   object \n",
      " 11  Injury                  6248 non-null   object \n",
      " 12  Fatal (Y/N)             5739 non-null   object \n",
      " 13  Time                    2938 non-null   object \n",
      " 14  Species                 3452 non-null   object \n",
      " 15  Investigator or Source  6259 non-null   object \n",
      " 16  href                    6276 non-null   object \n",
      "dtypes: float64(1), object(16)\n",
      "memory usage: 833.7+ KB\n"
     ]
    }
   ],
   "source": [
    "raw_clean.info()"
   ]
  },
  {
   "cell_type": "code",
   "execution_count": 67,
   "metadata": {},
   "outputs": [],
   "source": [
    "# Case number should be string\n",
    "raw_clean['Case Number'] = raw_clean['Case Number'].str.strip()\n",
    "raw_clean['Case Number'] = raw_clean['Case Number'].astype(str)"
   ]
  },
  {
   "cell_type": "code",
   "execution_count": 68,
   "metadata": {},
   "outputs": [
    {
     "name": "stdout",
     "output_type": "stream",
     "text": [
      "6276\n"
     ]
    }
   ],
   "source": [
    "# Date should be date, but we have some \"Reported\"\n",
    "DateRegex = re.compile(r'\\d{2}-\\w{3}-\\d{4}')\n",
    "\n",
    "        \n",
    "#print(~[DateRegex.search(date) for date in raw_clean['Date']])\n",
    "\n",
    "raw_clean['Date'] = raw_clean['Date'].replace('Reported', '', regex=True).replace('Before', '', regex=True).replace('No date', '', regex=True).replace('Between', '', regex=True).replace('.', '-', regex=True).str.strip()\n",
    "\n",
    "count = 0\n",
    "for date in raw_clean['Date']:\n",
    "    if not DateRegex.search(date):\n",
    "        count = count +1\n",
    "        #print (date)\n",
    "print (count)\n",
    "\n",
    "# This too complicated to fix in a reasonable amount of time\n"
   ]
  },
  {
   "cell_type": "code",
   "execution_count": 69,
   "metadata": {},
   "outputs": [
    {
     "name": "stdout",
     "output_type": "stream",
     "text": [
      "127\n"
     ]
    }
   ],
   "source": [
    "# as Date is a mess, at least we can fix Year so we can have something to work with in the future\n",
    "\n",
    "raw_clean['Year'] = raw_clean['Year'].fillna(0)\n",
    "\n",
    "\n",
    "print(raw_clean[raw_clean['Year'] == 0].count()['Year'])\n",
    "raw_clean['Date'].loc[raw_clean['Year']==0]\n",
    "\n",
    "# If Date has a year, we can use it to fill the Year gap\n",
    "for i in range(len(raw_clean['Year'])):\n",
    "    if raw_clean['Year'][i] == 0:\n",
    "        if len(re.findall('\\d{4}', raw_clean['Date'][i])) > 0:\n",
    "            raw_clean['Year'][i] = re.findall('\\d{4}', raw_clean['Date'][i])[0]"
   ]
  },
  {
   "cell_type": "code",
   "execution_count": 72,
   "metadata": {},
   "outputs": [
    {
     "name": "stdout",
     "output_type": "stream",
     "text": [
      "0\n"
     ]
    }
   ],
   "source": [
    "print(raw_clean[raw_clean['Year'] == 0].count()['Year'])\n",
    "raw_clean['Date'].loc[raw_clean['Year']==0]\n",
    "\n",
    "# The remaining 13 zeros are not important so we can drop them without losing a lot of info\n",
    "raw_clean=raw_clean[raw_clean.Year!=0]\n",
    "\n",
    "# cast to integer\n",
    "raw_clean['Year'] = [int(round(y)) for y in raw_clean['Year']]"
   ]
  },
  {
   "cell_type": "code",
   "execution_count": 73,
   "metadata": {},
   "outputs": [
    {
     "name": "stdout",
     "output_type": "stream",
     "text": [
      "Unprovoked      4466\n",
      "Provoked         565\n",
      "Invalid          542\n",
      "Sea Disaster     233\n",
      "Boating          201\n",
      "Boat             135\n",
      "Questionable       2\n",
      "Boatomg            1\n",
      "Name: Type, dtype: int64\n"
     ]
    },
    {
     "data": {
      "text/plain": [
       "Unprovoked      4466\n",
       "Provoked         565\n",
       "Invalid          542\n",
       "Boating          337\n",
       "Sea Disaster     233\n",
       "Questionable       2\n",
       "Name: Type, dtype: int64"
      ]
     },
     "execution_count": 73,
     "metadata": {},
     "output_type": "execute_result"
    }
   ],
   "source": [
    "# Type has very specific categories but some easy to fix mispellings\n",
    "\n",
    "print(raw_clean['Type'].value_counts())\n",
    "\n",
    "raw_clean['Type']=raw_clean['Type'].replace('Boat','Boating')\n",
    "raw_clean['Type']=raw_clean['Type'].replace('Boatomg','Boating')\n",
    "\n",
    "raw_clean['Type'].value_counts()"
   ]
  },
  {
   "cell_type": "code",
   "execution_count": 74,
   "metadata": {},
   "outputs": [
    {
     "name": "stdout",
     "output_type": "stream",
     "text": [
      "M      4966\n",
      "F       620\n",
      "N         2\n",
      "M         2\n",
      ".         1\n",
      "lli       1\n",
      "Name: Sex, dtype: int64\n",
      "Series([], Name: Sex, dtype: int64)\n"
     ]
    }
   ],
   "source": [
    "# Sex column has spaces and this may happen in other cases so let's fix them\n",
    "\n",
    "raw_clean.rename(columns=lambda x: x.strip(), inplace=True)\n",
    "\n",
    "print(raw_clean['Sex'].value_counts())\n",
    "\n",
    "# N is right next to M in most keyborads so I can guess is a typo\n",
    "raw_clean['Sex']=raw_clean['Sex'].replace('N','M', inplace=True)\n",
    "\n",
    "# Second M category has an space\n",
    "raw_clean['Sex']=raw_clean['Sex'].str.strip()\n",
    "\n",
    "print(raw_clean['Sex'].value_counts())"
   ]
  },
  {
   "cell_type": "code",
   "execution_count": 83,
   "metadata": {},
   "outputs": [
    {
     "name": "stdout",
     "output_type": "stream",
     "text": [
      "0               2706\n",
      "17               154\n",
      "18               150\n",
      "19               141\n",
      "20               140\n",
      "                ... \n",
      "mid-30s            1\n",
      "?    &   14        1\n",
      "23 & 26            1\n",
      "25 or 28           1\n",
      "\"middle-age\"       1\n",
      "Name: Age, Length: 149, dtype: int64\n",
      "False    6149\n",
      "Name: Age, dtype: int64\n",
      "False    6149\n",
      "Name: Age, dtype: int64\n"
     ]
    }
   ],
   "source": [
    "print(raw_clean['Age'].value_counts())\n",
    "print(raw_clean['Age'].isnull().value_counts())\n",
    "raw_clean['Age'] = raw_clean['Age'].fillna(0)\n",
    "print(raw_clean['Age'].isnull().value_counts())\n",
    "print(raw_clean['Age'].str.isnumeric().value_counts())"
   ]
  },
  {
   "cell_type": "code",
   "execution_count": 86,
   "metadata": {},
   "outputs": [
    {
     "name": "stdout",
     "output_type": "stream",
     "text": [
      "0     2706\n",
      "17     154\n",
      "18     150\n",
      "19     141\n",
      "20     140\n",
      "      ... \n",
      "72       1\n",
      "84       1\n",
      "67       1\n",
      "81       1\n",
      "87       1\n",
      "Name: Age, Length: 81, dtype: int64\n"
     ]
    }
   ],
   "source": [
    "#There are few rows with non numeric values, for a lot of reasons.\n",
    "# Most of them is because there are multiple age values, but our granularity is one row per attack, so this data\n",
    "# won't fit. In case there were a lot of them we may think about duplicating rows, one for each attack.\n",
    "\n",
    "raw_clean['Age'] = [str(x).strip() for x in raw_clean['Age']]\n",
    "\n",
    "raw_clean['Age'] = raw_clean['Age'].str.replace('½',',', regex=True)\n",
    "\n",
    "\n",
    "raw_clean = raw_clean[raw_clean['Age'].str.isnumeric()]\n",
    "raw_clean['Age'] = [int(x) for x in raw_clean['Age']]\n",
    "\n",
    "print(raw_clean['Age'].value_counts())"
   ]
  },
  {
   "cell_type": "code",
   "execution_count": 87,
   "metadata": {},
   "outputs": [
    {
     "name": "stdout",
     "output_type": "stream",
     "text": [
      "N          4149\n",
      "Y          1297\n",
      "UNKNOWN      70\n",
      " N            7\n",
      "M             1\n",
      "y             1\n",
      "N             1\n",
      "2017          1\n",
      "Name: Fatal (Y/N), dtype: int64\n",
      "N          4159\n",
      "Y          1298\n",
      "UNKNOWN      70\n",
      "Name: Fatal (Y/N), dtype: int64\n"
     ]
    }
   ],
   "source": [
    "print(raw_clean['Fatal (Y/N)'].value_counts())\n",
    "\n",
    "raw_clean['Fatal (Y/N)']=raw_clean['Fatal (Y/N)'].replace('M','N', regex=True)\n",
    "raw_clean['Fatal (Y/N)']=raw_clean['Fatal (Y/N)'].replace('y','Y', regex=True)\n",
    "raw_clean['Fatal (Y/N)']=raw_clean['Fatal (Y/N)'].str.strip()\n",
    "\n",
    "# the case of 2017 is a leg injured, so is not fatal\n",
    "raw_clean.loc[raw_clean['Fatal (Y/N)']=='2017']\n",
    "raw_clean['Fatal (Y/N)']=raw_clean['Fatal (Y/N)'].replace('2017','N', regex=True)\n",
    "\n",
    "print(raw_clean['Fatal (Y/N)'].value_counts())"
   ]
  },
  {
   "cell_type": "code",
   "execution_count": 90,
   "metadata": {},
   "outputs": [
    {
     "data": {
      "text/plain": [
       "True     3168\n",
       "False    2883\n",
       "Name: Time, dtype: int64"
      ]
     },
     "execution_count": 90,
     "metadata": {},
     "output_type": "execute_result"
    }
   ],
   "source": [
    "# Time is another mess but it's not necessary for our analysis\n",
    "raw_clean['Time'].isnull().value_counts()"
   ]
  },
  {
   "cell_type": "code",
   "execution_count": 89,
   "metadata": {},
   "outputs": [],
   "source": [
    "# So we're finished and ready to export\n",
    "raw_clean.to_csv('results/attacks_clean.csv',index=False)"
   ]
  },
  {
   "cell_type": "markdown",
   "metadata": {},
   "source": [
    "# Checking hypotesis:"
   ]
  },
  {
   "cell_type": "markdown",
   "metadata": {},
   "source": [
    "### 1. Most attacks were unprovoked"
   ]
  },
  {
   "cell_type": "code",
   "execution_count": 91,
   "metadata": {},
   "outputs": [
    {
     "data": {
      "text/html": [
       "<div>\n",
       "<style scoped>\n",
       "    .dataframe tbody tr th:only-of-type {\n",
       "        vertical-align: middle;\n",
       "    }\n",
       "\n",
       "    .dataframe tbody tr th {\n",
       "        vertical-align: top;\n",
       "    }\n",
       "\n",
       "    .dataframe thead th {\n",
       "        text-align: right;\n",
       "    }\n",
       "</style>\n",
       "<table border=\"1\" class=\"dataframe\">\n",
       "  <thead>\n",
       "    <tr style=\"text-align: right;\">\n",
       "      <th></th>\n",
       "      <th>Case Number</th>\n",
       "      <th>Date</th>\n",
       "      <th>Year</th>\n",
       "      <th>Type</th>\n",
       "      <th>Country</th>\n",
       "      <th>Area</th>\n",
       "      <th>Location</th>\n",
       "      <th>Activity</th>\n",
       "      <th>Name</th>\n",
       "      <th>Sex</th>\n",
       "      <th>Age</th>\n",
       "      <th>Injury</th>\n",
       "      <th>Fatal (Y/N)</th>\n",
       "      <th>Time</th>\n",
       "      <th>Species</th>\n",
       "      <th>Investigator or Source</th>\n",
       "      <th>href</th>\n",
       "    </tr>\n",
       "  </thead>\n",
       "  <tbody>\n",
       "    <tr>\n",
       "      <th>0</th>\n",
       "      <td>2018.06.25</td>\n",
       "      <td>-----------</td>\n",
       "      <td>2018</td>\n",
       "      <td>Boating</td>\n",
       "      <td>USA</td>\n",
       "      <td>California</td>\n",
       "      <td>Oceanside, San Diego County</td>\n",
       "      <td>Paddling</td>\n",
       "      <td>Julie Wolfe</td>\n",
       "      <td>NaN</td>\n",
       "      <td>57</td>\n",
       "      <td>No injury to occupant, outrigger canoe and pad...</td>\n",
       "      <td>N</td>\n",
       "      <td>18h00</td>\n",
       "      <td>White shark</td>\n",
       "      <td>R. Collier, GSAF</td>\n",
       "      <td>http://sharkattackfile.net/spreadsheets/pdf_di...</td>\n",
       "    </tr>\n",
       "    <tr>\n",
       "      <th>1</th>\n",
       "      <td>2018.06.18</td>\n",
       "      <td>-----------</td>\n",
       "      <td>2018</td>\n",
       "      <td>Unprovoked</td>\n",
       "      <td>USA</td>\n",
       "      <td>Georgia</td>\n",
       "      <td>St. Simon Island, Glynn County</td>\n",
       "      <td>Standing</td>\n",
       "      <td>Adyson McNeely</td>\n",
       "      <td>NaN</td>\n",
       "      <td>11</td>\n",
       "      <td>Minor injury to left thigh</td>\n",
       "      <td>N</td>\n",
       "      <td>14h00  -15h00</td>\n",
       "      <td>NaN</td>\n",
       "      <td>K.McMurray, TrackingSharks.com</td>\n",
       "      <td>http://sharkattackfile.net/spreadsheets/pdf_di...</td>\n",
       "    </tr>\n",
       "    <tr>\n",
       "      <th>2</th>\n",
       "      <td>2018.06.09</td>\n",
       "      <td>-----------</td>\n",
       "      <td>2018</td>\n",
       "      <td>Invalid</td>\n",
       "      <td>USA</td>\n",
       "      <td>Hawaii</td>\n",
       "      <td>Habush, Oahu</td>\n",
       "      <td>Surfing</td>\n",
       "      <td>John Denges</td>\n",
       "      <td>NaN</td>\n",
       "      <td>48</td>\n",
       "      <td>Injury to left lower leg from surfboard skeg</td>\n",
       "      <td>N</td>\n",
       "      <td>07h45</td>\n",
       "      <td>NaN</td>\n",
       "      <td>K.McMurray, TrackingSharks.com</td>\n",
       "      <td>http://sharkattackfile.net/spreadsheets/pdf_di...</td>\n",
       "    </tr>\n",
       "    <tr>\n",
       "      <th>3</th>\n",
       "      <td>2018.06.08</td>\n",
       "      <td>-----------</td>\n",
       "      <td>2018</td>\n",
       "      <td>Unprovoked</td>\n",
       "      <td>AUSTRALIA</td>\n",
       "      <td>New South Wales</td>\n",
       "      <td>Arrawarra Headland</td>\n",
       "      <td>Surfing</td>\n",
       "      <td>male</td>\n",
       "      <td>NaN</td>\n",
       "      <td>0</td>\n",
       "      <td>Minor injury to lower leg</td>\n",
       "      <td>N</td>\n",
       "      <td>NaN</td>\n",
       "      <td>2 m shark</td>\n",
       "      <td>B. Myatt, GSAF</td>\n",
       "      <td>http://sharkattackfile.net/spreadsheets/pdf_di...</td>\n",
       "    </tr>\n",
       "    <tr>\n",
       "      <th>4</th>\n",
       "      <td>2018.06.04</td>\n",
       "      <td>-----------</td>\n",
       "      <td>2018</td>\n",
       "      <td>Provoked</td>\n",
       "      <td>MEXICO</td>\n",
       "      <td>Colima</td>\n",
       "      <td>La Ticla</td>\n",
       "      <td>Free diving</td>\n",
       "      <td>Gustavo Ramos</td>\n",
       "      <td>NaN</td>\n",
       "      <td>0</td>\n",
       "      <td>Lacerations to leg &amp; hand shark PROVOKED INCIDENT</td>\n",
       "      <td>N</td>\n",
       "      <td>NaN</td>\n",
       "      <td>Tiger shark, 3m</td>\n",
       "      <td>A .Kipper</td>\n",
       "      <td>http://sharkattackfile.net/spreadsheets/pdf_di...</td>\n",
       "    </tr>\n",
       "  </tbody>\n",
       "</table>\n",
       "</div>"
      ],
      "text/plain": [
       "  Case Number         Date  Year        Type    Country             Area  \\\n",
       "0  2018.06.25  -----------  2018     Boating        USA       California   \n",
       "1  2018.06.18  -----------  2018  Unprovoked        USA          Georgia   \n",
       "2  2018.06.09  -----------  2018     Invalid        USA           Hawaii   \n",
       "3  2018.06.08  -----------  2018  Unprovoked  AUSTRALIA  New South Wales   \n",
       "4  2018.06.04  -----------  2018    Provoked     MEXICO           Colima   \n",
       "\n",
       "                         Location     Activity             Name  Sex  Age  \\\n",
       "0     Oceanside, San Diego County     Paddling      Julie Wolfe  NaN   57   \n",
       "1  St. Simon Island, Glynn County     Standing  Adyson McNeely   NaN   11   \n",
       "2                    Habush, Oahu      Surfing      John Denges  NaN   48   \n",
       "3              Arrawarra Headland      Surfing             male  NaN    0   \n",
       "4                        La Ticla  Free diving   Gustavo Ramos   NaN    0   \n",
       "\n",
       "                                              Injury Fatal (Y/N)  \\\n",
       "0  No injury to occupant, outrigger canoe and pad...           N   \n",
       "1                         Minor injury to left thigh           N   \n",
       "2       Injury to left lower leg from surfboard skeg           N   \n",
       "3                          Minor injury to lower leg           N   \n",
       "4  Lacerations to leg & hand shark PROVOKED INCIDENT           N   \n",
       "\n",
       "            Time          Species          Investigator or Source  \\\n",
       "0          18h00      White shark                R. Collier, GSAF   \n",
       "1  14h00  -15h00              NaN  K.McMurray, TrackingSharks.com   \n",
       "2          07h45              NaN  K.McMurray, TrackingSharks.com   \n",
       "3            NaN        2 m shark                  B. Myatt, GSAF   \n",
       "4            NaN  Tiger shark, 3m                       A .Kipper   \n",
       "\n",
       "                                                href  \n",
       "0  http://sharkattackfile.net/spreadsheets/pdf_di...  \n",
       "1  http://sharkattackfile.net/spreadsheets/pdf_di...  \n",
       "2  http://sharkattackfile.net/spreadsheets/pdf_di...  \n",
       "3  http://sharkattackfile.net/spreadsheets/pdf_di...  \n",
       "4  http://sharkattackfile.net/spreadsheets/pdf_di...  "
      ]
     },
     "execution_count": 91,
     "metadata": {},
     "output_type": "execute_result"
    }
   ],
   "source": [
    "data = pd.read_csv('results/attacks_clean.csv')\n",
    "data.head()"
   ]
  },
  {
   "cell_type": "code",
   "execution_count": 92,
   "metadata": {},
   "outputs": [
    {
     "name": "stdout",
     "output_type": "stream",
     "text": [
      "The rate of unprovoked attacks is 89%\n"
     ]
    }
   ],
   "source": [
    "unprovoked = data.loc[data.Type=='Unprovoked']\n",
    "provoked = data.loc[data.Type=='Provoked']\n",
    "\n",
    "unprovoked_rate = len(unprovoked) / (len(provoked) + len(unprovoked))\n",
    "print(\"The rate of unprovoked attacks is \" + \"{0:.0%}\".format(unprovoked_rate))"
   ]
  },
  {
   "cell_type": "code",
   "execution_count": 100,
   "metadata": {},
   "outputs": [
    {
     "data": {
      "text/plain": [
       "Series([], Name: Age, dtype: int64)"
      ]
     },
     "execution_count": 100,
     "metadata": {},
     "output_type": "execute_result"
    }
   ],
   "source": [
    "#df[(df['col1'] >= 1) & (df['col1'] <=1 )\n",
    "\n",
    "data.Age[(data.Age>=20) & (data.Age <=40) & (data.Sex == 'M')]"
   ]
  },
  {
   "cell_type": "code",
   "execution_count": 93,
   "metadata": {},
   "outputs": [
    {
     "ename": "ValueError",
     "evalue": "The truth value of a Series is ambiguous. Use a.empty, a.bool(), a.item(), a.any() or a.all().",
     "output_type": "error",
     "traceback": [
      "\u001b[0;31m---------------------------------------------------------------------------\u001b[0m",
      "\u001b[0;31mValueError\u001b[0m                                Traceback (most recent call last)",
      "\u001b[0;32m<ipython-input-93-4149c9c348e0>\u001b[0m in \u001b[0;36m<module>\u001b[0;34m\u001b[0m\n\u001b[0;32m----> 1\u001b[0;31m \u001b[0mlist1\u001b[0m\u001b[0;34m=\u001b[0m\u001b[0mlist\u001b[0m\u001b[0;34m(\u001b[0m\u001b[0mdict\u001b[0m\u001b[0;34m(\u001b[0m\u001b[0mdata\u001b[0m\u001b[0;34m.\u001b[0m\u001b[0mAge\u001b[0m\u001b[0;34m[\u001b[0m\u001b[0mdata\u001b[0m\u001b[0;34m.\u001b[0m\u001b[0mAge\u001b[0m\u001b[0;34m>=\u001b[0m\u001b[0;36m20\u001b[0m \u001b[0;32mand\u001b[0m \u001b[0mdata\u001b[0m\u001b[0;34m.\u001b[0m\u001b[0mAge\u001b[0m \u001b[0;34m<=\u001b[0m\u001b[0;36m40\u001b[0m\u001b[0;34m]\u001b[0m\u001b[0;34m.\u001b[0m\u001b[0mvalue_counts\u001b[0m\u001b[0;34m(\u001b[0m\u001b[0;34m)\u001b[0m\u001b[0;34m)\u001b[0m\u001b[0;34m.\u001b[0m\u001b[0mkeys\u001b[0m\u001b[0;34m(\u001b[0m\u001b[0;34m)\u001b[0m\u001b[0;34m)\u001b[0m\u001b[0;34m\u001b[0m\u001b[0;34m\u001b[0m\u001b[0m\n\u001b[0m\u001b[1;32m      2\u001b[0m \u001b[0mlist2\u001b[0m\u001b[0;34m=\u001b[0m\u001b[0mlist\u001b[0m\u001b[0;34m(\u001b[0m\u001b[0mdict\u001b[0m\u001b[0;34m(\u001b[0m\u001b[0mdata\u001b[0m\u001b[0;34m.\u001b[0m\u001b[0mAge\u001b[0m\u001b[0;34m[\u001b[0m\u001b[0mdata\u001b[0m\u001b[0;34m.\u001b[0m\u001b[0mAge\u001b[0m\u001b[0;34m>=\u001b[0m\u001b[0;36m20\u001b[0m \u001b[0;32mand\u001b[0m \u001b[0mdata\u001b[0m\u001b[0;34m.\u001b[0m\u001b[0mAge\u001b[0m \u001b[0;34m<=\u001b[0m\u001b[0;36m40\u001b[0m\u001b[0;34m]\u001b[0m\u001b[0;34m.\u001b[0m\u001b[0mvalue_counts\u001b[0m\u001b[0;34m(\u001b[0m\u001b[0;34m)\u001b[0m\u001b[0;34m)\u001b[0m\u001b[0;34m.\u001b[0m\u001b[0mvalues\u001b[0m\u001b[0;34m(\u001b[0m\u001b[0;34m)\u001b[0m\u001b[0;34m)\u001b[0m\u001b[0;34m\u001b[0m\u001b[0;34m\u001b[0m\u001b[0m\n\u001b[1;32m      3\u001b[0m \u001b[0;31m#df=pd.DataFrame(data=[list1,list2],index=['Age','Total cases']).T\u001b[0m\u001b[0;34m\u001b[0m\u001b[0;34m\u001b[0m\u001b[0;34m\u001b[0m\u001b[0m\n",
      "\u001b[0;32m/home/mgarcia/snap/jupyter/common/lib/python3.7/site-packages/pandas/core/generic.py\u001b[0m in \u001b[0;36m__nonzero__\u001b[0;34m(self)\u001b[0m\n\u001b[1;32m   1477\u001b[0m     \u001b[0;32mdef\u001b[0m \u001b[0m__nonzero__\u001b[0m\u001b[0;34m(\u001b[0m\u001b[0mself\u001b[0m\u001b[0;34m)\u001b[0m\u001b[0;34m:\u001b[0m\u001b[0;34m\u001b[0m\u001b[0;34m\u001b[0m\u001b[0m\n\u001b[1;32m   1478\u001b[0m         raise ValueError(\n\u001b[0;32m-> 1479\u001b[0;31m             \u001b[0;34mf\"The truth value of a {type(self).__name__} is ambiguous. \"\u001b[0m\u001b[0;34m\u001b[0m\u001b[0;34m\u001b[0m\u001b[0m\n\u001b[0m\u001b[1;32m   1480\u001b[0m             \u001b[0;34m\"Use a.empty, a.bool(), a.item(), a.any() or a.all().\"\u001b[0m\u001b[0;34m\u001b[0m\u001b[0;34m\u001b[0m\u001b[0m\n\u001b[1;32m   1481\u001b[0m         )\n",
      "\u001b[0;31mValueError\u001b[0m: The truth value of a Series is ambiguous. Use a.empty, a.bool(), a.item(), a.any() or a.all()."
     ]
    }
   ],
   "source": [
    "list1=list(dict(data.Age[data.Age>=20 and data.Age <=40].value_counts()).keys())\n",
    "list2=list(dict(data.Age[data.Age>=20 and data.Age <=40].value_counts()).values())\n",
    "#df=pd.DataFrame(data=[list1,list2],index=['Age','Total cases']).T"
   ]
  }
 ],
 "metadata": {
  "kernelspec": {
   "display_name": "Python 3",
   "language": "python",
   "name": "python3"
  },
  "language_info": {
   "codemirror_mode": {
    "name": "ipython",
    "version": 3
   },
   "file_extension": ".py",
   "mimetype": "text/x-python",
   "name": "python",
   "nbconvert_exporter": "python",
   "pygments_lexer": "ipython3",
   "version": "3.7.3"
  }
 },
 "nbformat": 4,
 "nbformat_minor": 2
}
