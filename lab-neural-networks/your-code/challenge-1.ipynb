{
 "cells": [
  {
   "cell_type": "markdown",
   "metadata": {},
   "source": [
    "# Challenge 1 - Tic Tac Toe\n",
    "\n",
    "In this lab you will perform deep learning analysis on a dataset of playing [Tic Tac Toe](https://en.wikipedia.org/wiki/Tic-tac-toe).\n",
    "\n",
    "There are 9 grids in Tic Tac Toe that are coded as the following picture shows:\n",
    "\n",
    "![Tic Tac Toe Grids](tttboard.jpg)\n",
    "\n",
    "In the first 9 columns of the dataset you can find which marks (`x` or `o`) exist in the grids. If there is no mark in a certain grid, it is labeled as `b`. The last column is `class` which tells you whether Player X (who always moves first in Tic Tac Toe) wins in this configuration. Note that when `class` has the value `False`, it means either Player O wins the game or it ends up as a draw."
   ]
  },
  {
   "cell_type": "markdown",
   "metadata": {},
   "source": [
    "Follow the steps suggested below to conduct a neural network analysis using Tensorflow and Keras. You will build a deep learning model to predict whether Player X wins the game or not.\n",
    "\n",
    "## Step 1: Data Engineering\n",
    "\n",
    "This dataset is almost in the ready-to-use state so you do not need to worry about missing values and so on. Still, some simple data engineering is needed.\n",
    "\n",
    "1. Read `tic-tac-toe.csv` into a dataframe.\n",
    "1. Inspect the dataset. Determine if the dataset is reliable by eyeballing the data.\n",
    "1. Convert the categorical values to numeric in all columns.\n",
    "1. Separate the inputs and output.\n",
    "1. Normalize the input data."
   ]
  },
  {
   "cell_type": "code",
   "execution_count": 7,
   "metadata": {},
   "outputs": [
    {
     "name": "stdout",
     "output_type": "stream",
     "text": [
      "<class 'numpy.ndarray'>\n",
      "<class 'numpy.ndarray'>\n"
     ]
    }
   ],
   "source": [
    "# your code here\n",
    "import pandas as pd\n",
    "import tensorflow as tf\n",
    "\n",
    "data = pd.read_csv('./tic-tac-toe.csv')\n",
    "#cat_columns = data.select_dtypes(['object']).columns\n",
    "data = data.apply(lambda x: x.astype(\"category\").cat.codes)\n",
    "\n",
    "data_output = data['class'].values\n",
    "data_input = data.loc[:, data.columns != 'class'].values\n",
    "#data_input = tf.keras.utils.normalize(data_input, axis = 1)\n",
    "\n",
    "#dataset = tf.data.Dataset.from_tensor_slices((df.values, target.values))\n",
    "print(type(data_input))\n",
    "print(type(data_output))"
   ]
  },
  {
   "cell_type": "markdown",
   "metadata": {},
   "source": [
    "## Step 2: Build Neural Network\n",
    "\n",
    "To build the neural network, you can refer to your own codes you wrote while following the [Deep Learning with Python, TensorFlow, and Keras tutorial](https://www.youtube.com/watch?v=wQ8BIBpya2k) in the lesson. It's pretty similar to what you will be doing in this lab.\n",
    "\n",
    "1. Split the training and test data.\n",
    "1. Create a `Sequential` model.\n",
    "1. Add several layers to your model. Make sure you use ReLU as the activation function for the middle layers. Use Softmax for the output layer because each output has a single lable and all the label probabilities add up to 1.\n",
    "1. Compile the model using `adam` as the optimizer and `sparse_categorical_crossentropy` as the loss function. For metrics, use `accuracy` for now.\n",
    "1. Fit the training data.\n",
    "1. Evaluate your neural network model with the test data.\n",
    "1. Save your model as `tic-tac-toe.model`."
   ]
  },
  {
   "cell_type": "code",
   "execution_count": 12,
   "metadata": {},
   "outputs": [
    {
     "name": "stdout",
     "output_type": "stream",
     "text": [
      "766\n",
      "192\n",
      "766\n",
      "192\n"
     ]
    }
   ],
   "source": [
    "# your code here\n",
    "from sklearn.model_selection import train_test_split\n",
    "import tensorflow as tf\n",
    "from tensorflow import keras\n",
    "from tensorflow.keras import layers\n",
    "\n",
    "X_train, X_test, y_train, y_test = train_test_split(data_input, data_output, test_size=0.2)\n",
    "\n",
    "X_train = tf.keras.utils.normalize(X_train, axis = 1)\n",
    "X_test = tf.keras.utils.normalize(X_test, axis = 1)\n",
    "\n",
    "\n",
    "print(len(X_train))\n",
    "print(len(X_test))\n",
    "print(len(y_train))\n",
    "print(len(y_test))"
   ]
  },
  {
   "cell_type": "code",
   "execution_count": 31,
   "metadata": {},
   "outputs": [
    {
     "name": "stdout",
     "output_type": "stream",
     "text": [
      "Train on 766 samples\n",
      "Epoch 1/10\n",
      "766/766 [==============================] - 0s 602us/sample - loss: 0.6624 - acc: 0.6305\n",
      "Epoch 2/10\n",
      "766/766 [==============================] - 0s 453us/sample - loss: 0.5805 - acc: 0.7180\n",
      "Epoch 3/10\n",
      "766/766 [==============================] - 0s 440us/sample - loss: 0.5234 - acc: 0.7507\n",
      "Epoch 4/10\n",
      "766/766 [==============================] - 0s 456us/sample - loss: 0.4382 - acc: 0.8016\n",
      "Epoch 5/10\n",
      "766/766 [==============================] - 0s 444us/sample - loss: 0.3824 - acc: 0.8277\n",
      "Epoch 6/10\n",
      "766/766 [==============================] - 0s 447us/sample - loss: 0.4022 - acc: 0.8303\n",
      "Epoch 7/10\n",
      "766/766 [==============================] - 0s 445us/sample - loss: 0.3180 - acc: 0.8681\n",
      "Epoch 8/10\n",
      "766/766 [==============================] - 0s 451us/sample - loss: 0.2499 - acc: 0.8930\n",
      "Epoch 9/10\n",
      "766/766 [==============================] - 0s 442us/sample - loss: 0.2153 - acc: 0.9112\n",
      "Epoch 10/10\n",
      "766/766 [==============================] - 0s 456us/sample - loss: 0.2093 - acc: 0.9125\n"
     ]
    }
   ],
   "source": [
    "model = keras.Sequential()\n",
    "\n",
    "model.add(tf.keras.layers.Dense(1024, activation = tf.nn.relu))\n",
    "model.add(tf.keras.layers.Dense(1024, activation = tf.nn.relu))\n",
    "model.add(tf.keras.layers.Dense(1024, activation = tf.nn.relu))\n",
    "model.add(tf.keras.layers.Dense(1024, activation = tf.nn.relu))\n",
    "model.add(tf.keras.layers.Dense(2, activation = tf.nn.softmax))\n",
    "\n",
    "model.compile(optimizer = 'adam', loss = 'sparse_categorical_crossentropy' , metrics = ['accuracy'])\n",
    "\n",
    "model.fit(X_train, y_train, epochs = 10)\n",
    "\n",
    "model.save('tic-tac-toe.model')"
   ]
  },
  {
   "cell_type": "markdown",
   "metadata": {},
   "source": [
    "## Step 3: Make Predictions\n",
    "\n",
    "Now load your saved model and use it to make predictions on a few random rows in the test dataset. Check if the predictions are correct."
   ]
  },
  {
   "cell_type": "code",
   "execution_count": 29,
   "metadata": {},
   "outputs": [
    {
     "name": "stdout",
     "output_type": "stream",
     "text": [
      "192/192 [==============================] - 0s 515us/sample - loss: 0.4780 - acc: 0.8281\n",
      "0.4780429055293401\n",
      "0.828125\n"
     ]
    }
   ],
   "source": [
    "# your code here\n",
    "val_loss, val_acc = model.evaluate(X_test, y_test)\n",
    "print(val_loss)\n",
    "print(val_acc)"
   ]
  },
  {
   "cell_type": "markdown",
   "metadata": {},
   "source": [
    "## Step 4: Improve Your Model\n",
    "\n",
    "Did your model achieve low loss (<0.1) and high accuracy (>0.95)? If not, try to improve your model.\n",
    "\n",
    "But how? There are so many things you can play with in Tensorflow and in the next challenge you'll learn about these things. But in this challenge, let's just do a few things to see if they will help.\n",
    "\n",
    "* Add more layers to your model. If the data are complex you need more layers. But don't use more layers than you need. If adding more layers does not improve the model performance you don't need additional layers.\n",
    "* Adjust the learning rate when you compile the model. This means you will create a custom `tf.keras.optimizers.Adam` instance where you specify the learning rate you want. Then pass the instance to `model.compile` as the optimizer.\n",
    "    * `tf.keras.optimizers.Adam` [reference](https://www.tensorflow.org/api_docs/python/tf/keras/optimizers/Adam).\n",
    "    * Don't worry if you don't understand what the learning rate does. You'll learn about it in the next challenge.\n",
    "* Adjust the number of epochs when you fit the training data to the model. Your model performance continues to improve as you train more epochs. But eventually it will reach the ceiling and the performance will stay the same."
   ]
  },
  {
   "cell_type": "code",
   "execution_count": 44,
   "metadata": {},
   "outputs": [
    {
     "name": "stdout",
     "output_type": "stream",
     "text": [
      "Train on 766 samples\n",
      "Epoch 1/20\n",
      "766/766 [==============================] - 1s 654us/sample - loss: 0.6721 - acc: 0.6397\n",
      "Epoch 2/20\n",
      "766/766 [==============================] - 0s 424us/sample - loss: 0.6200 - acc: 0.6658\n",
      "Epoch 3/20\n",
      "766/766 [==============================] - 0s 415us/sample - loss: 0.5239 - acc: 0.7585\n",
      "Epoch 4/20\n",
      "766/766 [==============================] - 0s 406us/sample - loss: 0.4214 - acc: 0.8185\n",
      "Epoch 5/20\n",
      "766/766 [==============================] - 0s 412us/sample - loss: 0.4040 - acc: 0.8198\n",
      "Epoch 6/20\n",
      "766/766 [==============================] - 0s 458us/sample - loss: 0.3688 - acc: 0.8420\n",
      "Epoch 7/20\n",
      "766/766 [==============================] - 0s 482us/sample - loss: 0.3342 - acc: 0.8577\n",
      "Epoch 8/20\n",
      "766/766 [==============================] - 0s 421us/sample - loss: 0.3176 - acc: 0.8603\n",
      "Epoch 9/20\n",
      "766/766 [==============================] - 0s 413us/sample - loss: 0.2879 - acc: 0.8812\n",
      "Epoch 10/20\n",
      "766/766 [==============================] - 0s 412us/sample - loss: 0.2197 - acc: 0.9151\n",
      "Epoch 11/20\n",
      "766/766 [==============================] - 0s 416us/sample - loss: 0.1804 - acc: 0.9282\n",
      "Epoch 12/20\n",
      "766/766 [==============================] - 0s 415us/sample - loss: 0.1088 - acc: 0.9582\n",
      "Epoch 13/20\n",
      "766/766 [==============================] - 0s 443us/sample - loss: 0.1747 - acc: 0.9282\n",
      "Epoch 14/20\n",
      "766/766 [==============================] - 0s 454us/sample - loss: 0.1861 - acc: 0.9269\n",
      "Epoch 15/20\n",
      "766/766 [==============================] - 0s 424us/sample - loss: 0.0845 - acc: 0.9661\n",
      "Epoch 16/20\n",
      "766/766 [==============================] - 0s 426us/sample - loss: 0.0622 - acc: 0.9843\n",
      "Epoch 17/20\n",
      "766/766 [==============================] - 0s 418us/sample - loss: 0.0560 - acc: 0.9791\n",
      "Epoch 18/20\n",
      "766/766 [==============================] - 0s 420us/sample - loss: 0.0580 - acc: 0.9817\n",
      "Epoch 19/20\n",
      "766/766 [==============================] - 0s 421us/sample - loss: 0.0744 - acc: 0.9752\n",
      "Epoch 20/20\n",
      "766/766 [==============================] - 0s 426us/sample - loss: 0.0266 - acc: 0.9922\n"
     ]
    },
    {
     "data": {
      "text/plain": [
       "<tensorflow.python.keras.callbacks.History at 0x7fbabff1c2b0>"
      ]
     },
     "execution_count": 44,
     "metadata": {},
     "output_type": "execute_result"
    }
   ],
   "source": [
    "# your code here\n",
    "tf.keras.optimizers.Adam(\n",
    "    learning_rate=0.002, \n",
    "    beta_1=0.9, beta_2=0.999, epsilon=1e-07, amsgrad=False,\n",
    "    name='Adam'\n",
    ")\n",
    "\n",
    "model = keras.Sequential()\n",
    "\n",
    "#model.add(tf.keras.layers.Flatten())\n",
    "model.add(tf.keras.layers.Dense(1024, activation = tf.nn.relu))\n",
    "model.add(tf.keras.layers.Dense(1024, activation = tf.nn.relu))\n",
    "model.add(tf.keras.layers.Dense(1024, activation = tf.nn.relu))\n",
    "model.add(tf.keras.layers.Dense(512, activation = tf.nn.relu))\n",
    "model.add(tf.keras.layers.Dense(256, activation = tf.nn.relu))\n",
    "model.add(tf.keras.layers.Dense(2, activation = tf.nn.softmax))\n",
    "\n",
    "model.compile(optimizer = 'adam', loss = 'sparse_categorical_crossentropy' , metrics = ['accuracy'])\n",
    "\n",
    "model.fit(X_train, y_train, epochs = 20)"
   ]
  },
  {
   "cell_type": "code",
   "execution_count": 45,
   "metadata": {},
   "outputs": [
    {
     "name": "stdout",
     "output_type": "stream",
     "text": [
      "192/192 [==============================] - 0s 951us/sample - loss: 0.2699 - acc: 0.9479\n"
     ]
    }
   ],
   "source": [
    "val_loss, val_acc = model.evaluate(X_test, y_test)"
   ]
  },
  {
   "cell_type": "markdown",
   "metadata": {},
   "source": [
    "**Which approach(es) did you find helpful to improve your model performance?**"
   ]
  },
  {
   "cell_type": "code",
   "execution_count": null,
   "metadata": {},
   "outputs": [],
   "source": [
    "# your answer here"
   ]
  }
 ],
 "metadata": {
  "kernelspec": {
   "display_name": "Python 3",
   "language": "python",
   "name": "python3"
  },
  "language_info": {
   "codemirror_mode": {
    "name": "ipython",
    "version": 3
   },
   "file_extension": ".py",
   "mimetype": "text/x-python",
   "name": "python",
   "nbconvert_exporter": "python",
   "pygments_lexer": "ipython3",
   "version": "3.7.3"
  }
 },
 "nbformat": 4,
 "nbformat_minor": 2
}
